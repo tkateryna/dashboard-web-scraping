{
 "cells": [
  {
   "cell_type": "markdown",
   "metadata": {},
   "source": [
    "## Generating random weighted data"
   ]
  },
  {
   "cell_type": "code",
   "execution_count": 1,
   "metadata": {},
   "outputs": [],
   "source": [
    "import pandas as pd\n",
    "import numpy as np\n",
    "import random"
   ]
  },
  {
   "cell_type": "code",
   "execution_count": 2,
   "metadata": {},
   "outputs": [],
   "source": [
    "columns = [\"Breaking&Entering\", \"Stated intent with partner\", \"Happened at night\", \"Elements of assault identified\", \"Elements of theft identified\",\"Race\",\"Stage of Legal Procedure\", \"Sentencing\"]\n",
    "race = [\"Black\", \"White\", \"Hispanic\", \"Other\"]\n",
    "stage = [\"Plea Bargaining\", \"Investigation\", \"Pre-Trial Motions\", \"Initial Hearing/Arraignment\"]\n",
    "sentencing = [0,1,2,3,4,5]\n",
    "df = pd.DataFrame(columns=columns)\n",
    "\n",
    "r=1000\n",
    "# Initiate df\n",
    "df = pd.DataFrame(np.random.choice([True, False],size=(r, len(columns))), columns=columns)"
   ]
  },
  {
   "cell_type": "markdown",
   "metadata": {},
   "source": [
    "## Generate Race randomly"
   ]
  },
  {
   "cell_type": "code",
   "execution_count": 3,
   "metadata": {},
   "outputs": [],
   "source": [
    "r=1000\n",
    "# Initiate df\n",
    "df = pd.DataFrame(np.random.choice([True, False],size=(r, len(columns))), columns=columns)"
   ]
  },
  {
   "cell_type": "code",
   "execution_count": 4,
   "metadata": {},
   "outputs": [],
   "source": [
    "df['Race'] = np.resize(random.choices(race, k=r),len(df))"
   ]
  },
  {
   "cell_type": "code",
   "execution_count": 5,
   "metadata": {},
   "outputs": [
    {
     "data": {
      "text/plain": [
       "<matplotlib.axes._subplots.AxesSubplot at 0x7ffcb324d310>"
      ]
     },
     "execution_count": 5,
     "metadata": {},
     "output_type": "execute_result"
    },
    {
     "data": {
      "image/png": "[encoded data removed]",
      "text/plain": [
       "<Figure size 432x288 with 1 Axes>"
      ]
     },
     "metadata": {
      "needs_background": "light"
     },
     "output_type": "display_data"
    }
   ],
   "source": [
    "df['Race'].value_counts().plot(kind='bar')"
   ]
  },
  {
   "cell_type": "markdown",
   "metadata": {},
   "source": [
    "### Stage of Legal Procedure"
   ]
  },
  {
   "cell_type": "code",
   "execution_count": 49,
   "metadata": {},
   "outputs": [],
   "source": [
    "# Black\n",
    "k = len(df[df['Race'] == 'Black'])\n",
    "mask = df['Race'] == 'Black'\n",
    "df.loc[mask, 'Stage of Legal Procedure'] = np.resize(random.choices(stage, weights=(50, 40, 10, 10), k=k),k)"
   ]
  },
  {
   "cell_type": "code",
   "execution_count": 50,
   "metadata": {},
   "outputs": [
    {
     "data": {
      "text/plain": [
       "<matplotlib.axes._subplots.AxesSubplot at 0x7ffcb4baa190>"
      ]
     },
     "execution_count": 50,
     "metadata": {},
     "output_type": "execute_result"
    },
    {
     "data": {
      "image/png": "[encoded data removed]",
      "text/plain": [
       "<Figure size 432x288 with 1 Axes>"
      ]
     },
     "metadata": {
      "needs_background": "light"
     },
     "output_type": "display_data"
    }
   ],
   "source": [
    "df[df['Race'] == 'Black']['Stage of Legal Procedure'].value_counts(sort=False).plot(kind='bar')"
   ]
  },
  {
   "cell_type": "code",
   "execution_count": 51,
   "metadata": {},
   "outputs": [],
   "source": [
    "# All other\n",
    "for r in race[1:]:\n",
    "    k = len(df[df['Race'] == r])\n",
    "    mask = df['Race'] == r\n",
    "    df.loc[mask, 'Stage of Legal Procedure'] = np.resize(random.choices(stage, k=k),k)"
   ]
  },
  {
   "cell_type": "code",
   "execution_count": 52,
   "metadata": {},
   "outputs": [
    {
     "data": {
      "text/plain": [
       "<matplotlib.axes._subplots.AxesSubplot at 0x7ffcb3568d50>"
      ]
     },
     "execution_count": 52,
     "metadata": {},
     "output_type": "execute_result"
    },
    {
     "data": {
      "image/png": "[encoded data removed]",
      "text/plain": [
       "<Figure size 432x288 with 1 Axes>"
      ]
     },
     "metadata": {
      "needs_background": "light"
     },
     "output_type": "display_data"
    }
   ],
   "source": [
    "df[df['Race'] != 'Black']['Stage of Legal Procedure'].value_counts(sort=False).plot(kind='bar')"
   ]
  },
  {
   "cell_type": "markdown",
   "metadata": {},
   "source": [
    "### Sentencing"
   ]
  },
  {
   "cell_type": "code",
   "execution_count": 53,
   "metadata": {},
   "outputs": [],
   "source": [
    "stage_1 = [\"Plea Bargaining\", \"Investigation\"]\n",
    "stage_2 = [\"Pre-Trial Motions\", \"Initial Hearing/Arraignment\"]\n",
    "for s in stage_1:\n",
    "    k = len(df[(df['Race'] == 'Black') & (df['Stage of Legal Procedure'] == s)])\n",
    "    mask = (df['Race'] == 'Black') & (df['Stage of Legal Procedure'] == s)\n",
    "    df.loc[mask, 'Sentencing'] = np.resize(random.choices(sentencing, weights=(5, 5, 10, 20, 30, 40), k=k),k)\n",
    "    \n",
    "for s in stage_2:\n",
    "    k = len(df[(df['Race'] == 'Black') & (df['Stage of Legal Procedure'] == s)])\n",
    "    mask = (df['Race'] == 'Black') & (df['Stage of Legal Procedure'] == s)\n",
    "    df.loc[mask, 'Sentencing'] = np.resize(random.choices(sentencing, k=k),k)"
   ]
  },
  {
   "cell_type": "code",
   "execution_count": 54,
   "metadata": {},
   "outputs": [
    {
     "data": {
      "text/plain": [
       "<matplotlib.axes._subplots.AxesSubplot at 0x7ffcb4098d50>"
      ]
     },
     "execution_count": 54,
     "metadata": {},
     "output_type": "execute_result"
    },
    {
     "data": {
      "image/png": "[encoded data removed]",
      "text/plain": [
       "<Figure size 432x288 with 1 Axes>"
      ]
     },
     "metadata": {
      "needs_background": "light"
     },
     "output_type": "display_data"
    }
   ],
   "source": [
    "df[df['Race'] == 'Black']['Sentencing'].value_counts(sort=False).plot(kind='bar')"
   ]
  },
  {
   "cell_type": "code",
   "execution_count": 59,
   "metadata": {},
   "outputs": [],
   "source": [
    "# All other\n",
    "for r in race[1:]:\n",
    "    k = len(df[df['Race'] == r])\n",
    "    mask = df['Race'] == r\n",
    "    df.loc[mask, 'Sentencing'] = np.resize(random.choices(sentencing, weights=(20, 30, 30, 30, 20, 10), k=k),k)"
   ]
  },
  {
   "cell_type": "code",
   "execution_count": 60,
   "metadata": {},
   "outputs": [
    {
     "data": {
      "text/plain": [
       "<matplotlib.axes._subplots.AxesSubplot at 0x7ffcb52e9cd0>"
      ]
     },
     "execution_count": 60,
     "metadata": {},
     "output_type": "execute_result"
    },
    {
     "data": {
      "image/png": "[encoded data removed]",
      "text/plain": [
       "<Figure size 432x288 with 1 Axes>"
      ]
     },
     "metadata": {
      "needs_background": "light"
     },
     "output_type": "display_data"
    }
   ],
   "source": [
    "df[df['Race'] != 'Black']['Sentencing'].value_counts(sort=False).plot(kind='bar')"
   ]
  },
  {
   "cell_type": "code",
   "execution_count": 48,
   "metadata": {},
   "outputs": [],
   "source": [
    "df.to_csv(\"weighted_random_df_v0.2.csv\")"
   ]
  },
  {
   "cell_type": "code",
   "execution_count": null,
   "metadata": {},
   "outputs": [],
   "source": []
  }
 ],
 "metadata": {
  "kernelspec": {
   "display_name": "Python 3",
   "language": "python",
   "name": "python3"
  },
  "language_info": {
   "codemirror_mode": {
    "name": "ipython",
    "version": 3
   },
   "file_extension": ".py",
   "mimetype": "text/x-python",
   "name": "python",
   "nbconvert_exporter": "python",
   "pygments_lexer": "ipython3",
   "version": "3.7.6"
  }
 },
 "nbformat": 4,
 "nbformat_minor": 4
}
