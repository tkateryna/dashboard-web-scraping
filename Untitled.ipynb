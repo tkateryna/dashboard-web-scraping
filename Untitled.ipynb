{
 "cells": [
  {
   "cell_type": "code",
   "execution_count": 2,
   "metadata": {},
   "outputs": [],
   "source": [
    "import pandas as pd\n",
    "import numpy as np\n",
    "import random\n",
    "\n",
    "def weighted_data(r, black_stage_weights, black_sentencing_weights, other_sentencing_weights):\n",
    "    \"\"\"\n",
    "    r: r is the size of the dataframe you want to generate\n",
    "    black_stage_weights: weights for Race == Black, for Stage of Legal Procedure column (4 weights)\n",
    "    black_sentencing_weights: weights for Race == Black, for Sentencing column (6 weights)\n",
    "    other_sentencing_weights: weights for Race != Black, for Sentencing column (6 weights)\n",
    "    \n",
    "    For weight number use the follow 5,10,15,20,25,30,35,40,45,50\n",
    "    The higher the number the more chance that the item will be picked.\n",
    "    \n",
    "    \n",
    "    Weight Explained:\n",
    "    Probability = element_weight/ sum of all weights\n",
    "    weight = [10,20,30,40,50]\n",
    "    The total weight is 10+20+30+40+50 = 150\n",
    "\n",
    "    List is [111, 222, 333, 444, 555]\n",
    "\n",
    "    It returns 111 with probability 10/150 = 0.06\n",
    "    It returns 222 with probability 20/150 = 0.13\n",
    "    It returns 333 with probability 30/150 = 0.20\n",
    "    It returns 444 with probability 40/150 = 0.26\n",
    "    It returns 555 with probability 50/150 = 0.33\n",
    "    \"\"\"\n",
    "    columns = [\"Breaking&Entering\", \"Stated intent with partner\", \"Happened at night\", \"Elements of assault identified\", \"Elements of theft identified\",\"Race\",\"Stage of Legal Procedure\", \"Sentencing\"]\n",
    "    race = [\"Black\", \"White\", \"Hispanic\", \"Other\"]\n",
    "    stage = [\"Plea Bargaining\", \"Investigation\", \"Pre-Trial Motions\", \"Initial Hearing/Arraignment\"]\n",
    "    sentencing = [0,1,2,3,4,5]\n",
    "    df = pd.DataFrame(columns=columns)\n",
    "\n",
    "    r=r\n",
    "    # Initiate df\n",
    "    df = pd.DataFrame(np.random.choice([True, False],size=(r, len(columns))), columns=columns)\n",
    "\n",
    "    df['Race'] = np.resize(random.choices(race, k=r),r)\n",
    "\n",
    "    # Black\n",
    "    k = len(df[df['Race'] == 'Black'])\n",
    "    mask = df['Race'] == 'Black'\n",
    "    df.loc[mask, 'Stage of Legal Procedure'] = np.resize(random.choices(stage, weights=(black_stage_weights), k=k),k)\n",
    "\n",
    "    # All other\n",
    "    for r in race[1:]:\n",
    "        k = len(df[df['Race'] == r])\n",
    "        mask = df['Race'] == r\n",
    "        df.loc[mask, 'Stage of Legal Procedure'] = np.resize(random.choices(stage, k=k),k)\n",
    "\n",
    "    # Black\n",
    "    k = len(df[df['Race'] == 'Black'])\n",
    "    mask = df['Race'] == 'Black'\n",
    "    df.loc[mask, 'Sentencing'] = np.resize(random.choices(sentencing, weights=(black_sentencing_weights), k=k),k)\n",
    "\n",
    "    # All other\n",
    "    for r in race[1:]:\n",
    "        k = len(df[df['Race'] == r])\n",
    "        mask = df['Race'] == r\n",
    "        df.loc[mask, 'Sentencing'] = np.resize(random.choices(sentencing, weights=(other_sentencing_weights), k=k),k)\n",
    "\n",
    "    \n",
    "    return df"
   ]
  },
  {
   "cell_type": "code",
   "execution_count": 6,
   "metadata": {},
   "outputs": [],
   "source": [
    "df = weighted_data(r=5000, black_stage_weights=[50, 40, 10, 10], \n",
    "                   black_sentencing_weights=[10, 10, 20, 30, 30, 40], \n",
    "                   other_sentencing_weights=[20, 30, 30, 30, 20, 10])\n",
    "df.to_csv(\"weighted_data.csv\")"
   ]
  },
  {
   "cell_type": "code",
   "execution_count": null,
   "metadata": {},
   "outputs": [],
   "source": []
  }
 ],
 "metadata": {
  "kernelspec": {
   "display_name": "Python 3",
   "language": "python",
   "name": "python3"
  },
  "language_info": {
   "codemirror_mode": {
    "name": "ipython",
    "version": 3
   },
   "file_extension": ".py",
   "mimetype": "text/x-python",
   "name": "python",
   "nbconvert_exporter": "python",
   "pygments_lexer": "ipython3",
   "version": "3.7.6"
  }
 },
 "nbformat": 4,
 "nbformat_minor": 4
}
