{
 "cells": [
  {
   "cell_type": "code",
   "execution_count": 1,
   "metadata": {},
   "outputs": [],
   "source": [
    "# Import packages for ...\n",
    "## pulling data from XML and HTML files\n",
    "from bs4 import BeautifulSoup \n",
    "\n",
    "## automating web browser interaction\n",
    "from selenium import webdriver # module containing implementations of browser drivers\n",
    "from webdriver_manager.chrome import ChromeDriverManager # Chrome driver \n",
    "from selenium.webdriver.support import expected_conditions as EC # method for writing code that waits until conditions are met \n",
    "from selenium.webdriver.support.ui import WebDriverWait # method for writing code that implements implicit or explicit waits\n",
    "from selenium.webdriver.common.by import By # method for locating elements by their attributes\n",
    "from selenium.webdriver import ActionChains # module for implementing browser interactions \n",
    "\n",
    "## data manipulation\n",
    "import pandas as pd\n",
    "from datetime import datetime\n",
    "import numpy as np\n",
    "\n",
    "## plotting\n",
    "import matplotlib.pyplot as plt"
   ]
  },
  {
   "cell_type": "code",
   "execution_count": 2,
   "metadata": {},
   "outputs": [
    {
     "name": "stderr",
     "output_type": "stream",
     "text": [
      "[WDM] - Current google-chrome version is 84.0.4147\n",
      "[WDM] - Get LATEST driver version for 84.0.4147\n",
      "[WDM] - Driver [/Users/kate/.wdm/drivers/chromedriver/mac64/84.0.4147.30/chromedriver] found in cache\n"
     ]
    },
    {
     "name": "stdout",
     "output_type": "stream",
     "text": [
      " \n"
     ]
    }
   ],
   "source": [
    "driver = webdriver.Chrome(ChromeDriverManager().install())\n",
    "url = \"https://ida.ussc.gov/analytics/saw.dll?Dashboard\"\n",
    "driver.get(url)\n",
    "\n",
    "#html = requests.get('http://www.imdb.com/title/tt2084970/').text"
   ]
  },
  {
   "cell_type": "code",
   "execution_count": 63,
   "metadata": {},
   "outputs": [
    {
     "name": "stdout",
     "output_type": "stream",
     "text": [
      "checkboxRadioButton\n"
     ]
    }
   ],
   "source": [
    "parent_elem = driver.find_element_by_xpath(\"//div[@title='White']\")\n",
    "child_elements = parent_elem.find_element_by_xpath(\".//*\").find_element_by_xpath(\".//*\")\n",
    "race = child_elements.get_attribute(\"class\")\n",
    "print(race)"
   ]
  },
  {
   "cell_type": "code",
   "execution_count": 3,
   "metadata": {},
   "outputs": [],
   "source": [
    "# Run the following once so that the dropdown with checkboxes opens up\n",
    "num = 4 # Race\n",
    "driver.find_elements_by_xpath(\"//img[@src='/bicustom/res/s_IDA/master/selectdropdown_ena.png']\")[num].click()"
   ]
  },
  {
   "cell_type": "code",
   "execution_count": 4,
   "metadata": {},
   "outputs": [],
   "source": [
    "# Scrape checkbox values first !\n",
    "# Then use the values to toggle checkboxes\n",
    "# Then download data from the right dashboard\n",
    "\n",
    "# Toggle the checkbox !! \n",
    "# TODO Click out !\n",
    "\n",
    "def race_checkbox(race_elem, checked):\n",
    "    \"\"\"\n",
    "    race_elem list options are \"White\", \"Black\", \"Hispanic\", \"Other\"\n",
    "    checked parameter options are \"true\", \"None\"\n",
    "    \"\"\"\n",
    "    parent_elem = driver.find_element_by_xpath(\"//div[@title='\" + race_elem + \"']\")\n",
    "    child_elements = parent_elem.find_element_by_xpath(\".//*\").find_element_by_xpath(\".//*\")\n",
    "\n",
    "    if child_elements.get_attribute(\"type\") == 'checkbox':\n",
    "        print(\"Element is a checkbox\")\n",
    "\n",
    "        if checked == child_elements.get_attribute(\"checked\"):\n",
    "            print(\"Checkbox status is already what you've requested.\")\n",
    "        else:\n",
    "            # Select the checkbox\n",
    "            child_elements.click()\n",
    "            # Click out so that the page can reload\n",
    "            driver.find_element_by_xpath(\"//body\").click()\n",
    "            print(\"Checkbox updated\") \n",
    "\n",
    "    else:\n",
    "        print(\"Element is not a checkbox\")"
   ]
  },
  {
   "cell_type": "code",
   "execution_count": 5,
   "metadata": {},
   "outputs": [
    {
     "name": "stdout",
     "output_type": "stream",
     "text": [
      "Element is a checkbox\n",
      "Checkbox updated\n"
     ]
    }
   ],
   "source": [
    "race_checkbox(\"Black\", \"true\")"
   ]
  },
  {
   "cell_type": "code",
   "execution_count": null,
   "metadata": {},
   "outputs": [],
   "source": []
  }
 ],
 "metadata": {
  "kernelspec": {
   "display_name": "Python 3",
   "language": "python",
   "name": "python3"
  },
  "language_info": {
   "codemirror_mode": {
    "name": "ipython",
    "version": 3
   },
   "file_extension": ".py",
   "mimetype": "text/x-python",
   "name": "python",
   "nbconvert_exporter": "python",
   "pygments_lexer": "ipython3",
   "version": "3.7.6"
  }
 },
 "nbformat": 4,
 "nbformat_minor": 4
}
