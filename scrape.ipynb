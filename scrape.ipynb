{
 "cells": [
  {
   "cell_type": "code",
   "execution_count": 9,
   "metadata": {},
   "outputs": [],
   "source": [
    "# Import packages for ...\n",
    "## pulling data from XML and HTML files\n",
    "from bs4 import BeautifulSoup \n",
    "\n",
    "## automating web browser interaction\n",
    "from selenium import webdriver # module containing implementations of browser drivers\n",
    "from webdriver_manager.chrome import ChromeDriverManager # Chrome driver \n",
    "from selenium.webdriver.support import expected_conditions as EC # method for writing code that waits until conditions are met \n",
    "from selenium.webdriver.support.ui import WebDriverWait # method for writing code that implements implicit or explicit waits\n",
    "from selenium.webdriver.common.by import By # method for locating elements by their attributes\n",
    "from selenium.webdriver import ActionChains # module for implementing browser interactions \n",
    "\n",
    "## data manipulation\n",
    "import pandas as pd\n",
    "from datetime import datetime\n",
    "import numpy as np\n",
    "\n",
    "## plotting\n",
    "import matplotlib.pyplot as plt"
   ]
  },
  {
   "cell_type": "code",
   "execution_count": 5,
   "metadata": {},
   "outputs": [
    {
     "name": "stderr",
     "output_type": "stream",
     "text": [
      "[WDM] - Current google-chrome version is 84.0.4147\n",
      "[WDM] - Get LATEST driver version for 84.0.4147\n"
     ]
    },
    {
     "name": "stdout",
     "output_type": "stream",
     "text": [
      " \n"
     ]
    },
    {
     "name": "stderr",
     "output_type": "stream",
     "text": [
      "[WDM] - There is no [mac64] chromedriver for browser 84.0.4147 in cache\n",
      "[WDM] - Get LATEST driver version for 84.0.4147\n",
      "[WDM] - Trying to download new driver from http://chromedriver.storage.googleapis.com/84.0.4147.30/chromedriver_mac64.zip\n",
      "[WDM] - Driver has been saved in cache [/Users/kate/.wdm/drivers/chromedriver/mac64/84.0.4147.30]\n"
     ]
    }
   ],
   "source": [
    "driver = webdriver.Chrome(ChromeDriverManager().install())\n",
    "url = \"https://ida.ussc.gov/analytics/saw.dll?Dashboard\"\n",
    "driver.get(url)\n",
    "\n",
    "#html = requests.get('http://www.imdb.com/title/tt2084970/').text"
   ]
  },
  {
   "cell_type": "code",
   "execution_count": 63,
   "metadata": {},
   "outputs": [
    {
     "name": "stdout",
     "output_type": "stream",
     "text": [
      "checkboxRadioButton\n"
     ]
    }
   ],
   "source": [
    "parent_elem = driver.find_element_by_xpath(\"//div[@title='White']\")\n",
    "child_elements = parent_elem.find_element_by_xpath(\".//*\").find_element_by_xpath(\".//*\")\n",
    "race = child_elements.get_attribute(\"class\")\n",
    "print(race)"
   ]
  },
  {
   "cell_type": "code",
   "execution_count": 72,
   "metadata": {},
   "outputs": [
    {
     "name": "stdout",
     "output_type": "stream",
     "text": [
      "checkbox\n",
      "Element is a checkbox\n",
      "Element checked - false\n"
     ]
    }
   ],
   "source": [
    "# Scrape checkbox values first !\n",
    "# Then use the values to toggle checkboxes\n",
    "# Then download data from the right dashboard\n",
    "\n",
    "# Toggle the checkbox !! \n",
    "# TODO Click out !\n",
    "parent_elem = driver.find_element_by_xpath(\"//div[@title='Black']\")\n",
    "child_elements = parent_elem.find_element_by_xpath(\".//*\").find_element_by_xpath(\".//*\")\n",
    "\n",
    "race = child_elements.get_attribute(\"type\")\n",
    "print(race)\n",
    "if child_elements:\n",
    "    child_elements.click()\n",
    "    print(\"Element is a checkbox\")\n",
    "    isChecked = child_elements.get_attribute(\"checked\")\n",
    "    if isChecked is not None:\n",
    "        print(\"Element checked - \", isChecked)\n",
    "    else:\n",
    "        print(\"Element checked - false\")\n",
    "else:\n",
    "    print(\"Element is not a checkbox\")"
   ]
  },
  {
   "cell_type": "code",
   "execution_count": 71,
   "metadata": {},
   "outputs": [
    {
     "data": {
      "text/plain": [
       "True"
      ]
     },
     "execution_count": 71,
     "metadata": {},
     "output_type": "execute_result"
    }
   ],
   "source": [
    "child_elements.get_attribute(\"type\") == 'checkbox'"
   ]
  },
  {
   "cell_type": "code",
   "execution_count": null,
   "metadata": {},
   "outputs": [],
   "source": [
    "isChecked = driver.find_element_by_id(\"privacypolicy\").get_attribute(\"checked\")\n",
    "if isChecked is not None:\n",
    "    print(\"Element checked - \", isChecked)\n",
    "else:\n",
    "    print(\"Element checked - false\")"
   ]
  },
  {
   "cell_type": "code",
   "execution_count": null,
   "metadata": {},
   "outputs": [],
   "source": [
    "for element in race:\n",
    "    "
   ]
  },
  {
   "cell_type": "code",
   "execution_count": 26,
   "metadata": {},
   "outputs": [
    {
     "data": {
      "text/plain": [
       "<selenium.webdriver.remote.webelement.WebElement (session=\"562f0da588b5c81f1adee2006055aeb2\", element=\"6769da87-e03c-4a2c-b22f-6b2579d44383\")>"
      ]
     },
     "execution_count": 26,
     "metadata": {},
     "output_type": "execute_result"
    }
   ],
   "source": [
    "child_elements"
   ]
  },
  {
   "cell_type": "code",
   "execution_count": null,
   "metadata": {},
   "outputs": [],
   "source": []
  }
 ],
 "metadata": {
  "kernelspec": {
   "display_name": "Python 3",
   "language": "python",
   "name": "python3"
  },
  "language_info": {
   "codemirror_mode": {
    "name": "ipython",
    "version": 3
   },
   "file_extension": ".py",
   "mimetype": "text/x-python",
   "name": "python",
   "nbconvert_exporter": "python",
   "pygments_lexer": "ipython3",
   "version": "3.7.6"
  }
 },
 "nbformat": 4,
 "nbformat_minor": 4
}
