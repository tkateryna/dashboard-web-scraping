{
 "cells": [
  {
   "cell_type": "code",
   "execution_count": 1,
   "metadata": {},
   "outputs": [],
   "source": [
    "# Import packages for ...\n",
    "## pulling data from XML and HTML files\n",
    "from bs4 import BeautifulSoup \n",
    "\n",
    "## automating web browser interaction\n",
    "from selenium import webdriver # module containing implementations of browser drivers\n",
    "from webdriver_manager.chrome import ChromeDriverManager # Chrome driver \n",
    "from selenium.webdriver.support import expected_conditions as EC # method for writing code that waits until conditions are met \n",
    "from selenium.webdriver.support.ui import WebDriverWait # method for writing code that implements implicit or explicit waits\n",
    "from selenium.webdriver.common.by import By # method for locating elements by their attributes\n",
    "from selenium.webdriver import ActionChains # module for implementing browser interactions \n",
    "\n",
    "## data manipulation\n",
    "import pandas as pd\n",
    "from datetime import datetime\n",
    "import numpy as np\n",
    "import time\n",
    "import os\n",
    "\n",
    "## plotting\n",
    "import matplotlib.pyplot as plt"
   ]
  },
  {
   "cell_type": "code",
   "execution_count": 2,
   "metadata": {},
   "outputs": [
    {
     "name": "stderr",
     "output_type": "stream",
     "text": [
      "[WDM] - Current google-chrome version is 84.0.4147\n",
      "[WDM] - Get LATEST driver version for 84.0.4147\n"
     ]
    },
    {
     "name": "stdout",
     "output_type": "stream",
     "text": [
      " \n"
     ]
    },
    {
     "name": "stderr",
     "output_type": "stream",
     "text": [
      "[WDM] - Driver [/Users/kate/.wdm/drivers/chromedriver/mac64/84.0.4147.30/chromedriver] found in cache\n"
     ]
    }
   ],
   "source": [
    "# Open up a chrome page\n",
    "driver = webdriver.Chrome(ChromeDriverManager().install())\n",
    "url = \"https://ida.ussc.gov/analytics/saw.dll?Dashboard\"\n",
    "driver.get(url)"
   ]
  },
  {
   "cell_type": "code",
   "execution_count": 17,
   "metadata": {},
   "outputs": [],
   "source": [
    "# Open a dropdown of a particular category, toggle a dropdown for a known value and update the dashboard\n",
    "def one_checkbox(checkbox_value, check_status, category, val=1):\n",
    "    \"\"\"\n",
    "    checkbox_value: \"White\", \"Black\", \"Hispanic\", \"Other\"\n",
    "    checked_status: \"true\" or \"None\"\n",
    "    category: \"Race\", \"Crime Type\"\n",
    "    val: for \"Other\" the val is either 1 or 0\n",
    "    \"\"\"\n",
    "    \n",
    "    num=filters.get(category)\n",
    "    dropdown = driver.find_elements_by_xpath(\"//img[@src='/bicustom/res/s_IDA/master/selectdropdown_ena.png']\")[num]\n",
    "    dropdown.click()\n",
    "    time.sleep(2)\n",
    "    \n",
    "    if checkbox_value == \"Other\":\n",
    "        if category == \"Race\":\n",
    "            parent_elem = driver.find_elements_by_xpath(\"//div[@title='\" + checkbox_value + \"']\")[val]\n",
    "        elif category == \"Crime Type\":\n",
    "            parent_elem = driver.find_elements_by_xpath(\"//div[@title='\" + checkbox_value + \"']\")[val]\n",
    "    else:\n",
    "        parent_elem = driver.find_element_by_xpath(\"//div[@title='\" + checkbox_value + \"']\")\n",
    "\n",
    "    child_elements = parent_elem.find_element_by_xpath(\".//*\").find_element_by_xpath(\".//*\")\n",
    "\n",
    "    if child_elements.get_attribute(\"type\") == 'checkbox':\n",
    "        print(\"Element is a checkbox\")\n",
    "\n",
    "        if check_status == child_elements.get_attribute(\"checked\"):\n",
    "            print(\"Checkbox status as expected: {}\".format(checkbox_value))\n",
    "        else:\n",
    "            # Select the checkbox\n",
    "            child_elements.click()\n",
    "            # Click out so that the page can reload\n",
    "            driver.find_element_by_xpath(\"//body\").click()\n",
    "            print(\"Checkbox updated: {}\".format(checkbox_value)) \n",
    "\n",
    "    else:\n",
    "        print(\"Element is not a checkbox\")\n",
    "        \n",
    "    num=filters.get(category)\n",
    "    dropdown = driver.find_elements_by_xpath(\"//img[@src='/bicustom/res/s_IDA/master/selectdropdown_ena.png']\")[num].click()\n",
    "    "
   ]
  },
  {
   "cell_type": "markdown",
   "metadata": {},
   "source": [
    "## Import .py function"
   ]
  },
  {
   "cell_type": "code",
   "execution_count": 78,
   "metadata": {},
   "outputs": [],
   "source": [
    "from sentencing_outcomes import *"
   ]
  },
  {
   "cell_type": "code",
   "execution_count": 77,
   "metadata": {},
   "outputs": [
    {
     "data": {
      "text/plain": [
       "<module 'sentencing_outcomes' from '/Users/kate/Documents/Data Science/dashboard-web-scraping/sentencing_outcomes.py'>"
      ]
     },
     "execution_count": 77,
     "metadata": {},
     "output_type": "execute_result"
    }
   ],
   "source": [
    "# Reload the script\n",
    "import sys, importlib\n",
    "importlib.reload(sys.modules['sentencing_outcomes'])"
   ]
  },
  {
   "cell_type": "code",
   "execution_count": null,
   "metadata": {},
   "outputs": [],
   "source": [
    "# use expand list when gathering data from tables\n",
    "expand_list()"
   ]
  },
  {
   "cell_type": "markdown",
   "metadata": {},
   "source": [
    "### Run stuff - Sentence Length"
   ]
  },
  {
   "cell_type": "code",
   "execution_count": 7,
   "metadata": {},
   "outputs": [],
   "source": [
    "# Navigate to Sentencing Outcomes, Sentence Length page\n",
    "nav_to_sentencingoutcomes(driver, \"Sentence Length\")"
   ]
  },
  {
   "cell_type": "code",
   "execution_count": 79,
   "metadata": {},
   "outputs": [],
   "source": [
    "sentence_length_all = pd.DataFrame() # Instantiate a df\n",
    "sentence_length_all['Race'] = \"\"\n",
    "sentence_length_all['Crime Type'] = \"\""
   ]
  },
  {
   "cell_type": "code",
   "execution_count": 41,
   "metadata": {},
   "outputs": [],
   "source": [
    "#r = race[0] # spin through all\n",
    "#ct = crime_type[3] # spin through all"
   ]
  },
  {
   "cell_type": "code",
   "execution_count": null,
   "metadata": {},
   "outputs": [
    {
     "name": "stdout",
     "output_type": "stream",
     "text": [
      "Element is a checkbox\n",
      "Checkbox updated: White\n",
      "Element is a checkbox\n",
      "Checkbox updated: Administration of Justice\n",
      "DF has been generated for race White, crime type Administration of Justice\n",
      "All checkboxes toggled to off\n",
      "Element is a checkbox\n",
      "Checkbox updated: Antitrust\n",
      "DF has been generated for race White, crime type Antitrust\n",
      "All checkboxes toggled to off\n",
      "Element is a checkbox\n",
      "Checkbox updated: Arson\n"
     ]
    }
   ],
   "source": [
    "r = race[0] # spin through all\n",
    "## Select the right filters\n",
    "one_checkbox(r, \"true\", \"Race\", val=0) # toggle \n",
    "#time.sleep(5)\n",
    "for ct in crime_type:\n",
    "    one_checkbox(ct, \"true\", \"Crime Type\", val=0) # toggle\n",
    "    ## Append the data to DF\n",
    "    sentence_length_all = sentence_length_all.append(sentence_length(driver, r, ct), ignore_index=True)\n",
    "    ## Reset the filters - Crime Type\n",
    "    toggle_dropdown(driver, 'Crime Type')\n",
    "    time.sleep(5)\n",
    "    unselect_all(driver, crime_type)\n",
    "    time.sleep(5)\n",
    "## Reset the filters - Race\n",
    "toggle_dropdown(driver, 'Race')\n",
    "time.sleep(5)\n",
    "unselect_all(driver, race)\n",
    "time.sleep(5)"
   ]
  },
  {
   "cell_type": "code",
   "execution_count": null,
   "metadata": {},
   "outputs": [],
   "source": []
  },
  {
   "cell_type": "code",
   "execution_count": 75,
   "metadata": {},
   "outputs": [
    {
     "data": {
      "text/html": [
       "<div>\n",
       "<style scoped>\n",
       "    .dataframe tbody tr th:only-of-type {\n",
       "        vertical-align: middle;\n",
       "    }\n",
       "\n",
       "    .dataframe tbody tr th {\n",
       "        vertical-align: top;\n",
       "    }\n",
       "\n",
       "    .dataframe thead th {\n",
       "        text-align: right;\n",
       "    }\n",
       "</style>\n",
       "<table border=\"1\" class=\"dataframe\">\n",
       "  <thead>\n",
       "    <tr style=\"text-align: right;\">\n",
       "      <th></th>\n",
       "      <th>Race</th>\n",
       "      <th>Crime Type</th>\n",
       "      <th>Distribution of Sentence Length 60 to 119 Months</th>\n",
       "      <th>Distribution of Sentence Length 24 to 59 Months</th>\n",
       "      <th>Distribution of Sentence Length Up to 24 Months</th>\n",
       "      <th>Distribution of Imprisonment Length 60 to 119 Months</th>\n",
       "      <th>Distribution of Imprisonment Length 24 to 59 Months</th>\n",
       "      <th>Distribution of Imprisonment Length Up to 24 Months</th>\n",
       "      <th>Sentence Length (Average Months)</th>\n",
       "      <th>Sentence Length (Median Months)</th>\n",
       "      <th>Imprisonment Length (Average Months)</th>\n",
       "      <th>Imprisonment Length (Median Months)</th>\n",
       "      <th>Supervised Release (Average Months)</th>\n",
       "      <th>Supervised Release (Median Months)</th>\n",
       "      <th>Distribution of Sentence Length 120 Months or More</th>\n",
       "      <th>Distribution of Imprisonment Length 120 Months or More</th>\n",
       "    </tr>\n",
       "  </thead>\n",
       "  <tbody>\n",
       "    <tr>\n",
       "      <th>0</th>\n",
       "      <td>White</td>\n",
       "      <td>Administration of Justice</td>\n",
       "      <td>2.0%</td>\n",
       "      <td>11.7%</td>\n",
       "      <td>86.3%</td>\n",
       "      <td>3.1%</td>\n",
       "      <td>16.3%</td>\n",
       "      <td>80.6%</td>\n",
       "      <td>10</td>\n",
       "      <td>6</td>\n",
       "      <td>14</td>\n",
       "      <td>10</td>\n",
       "      <td>23</td>\n",
       "      <td>24</td>\n",
       "      <td>NaN</td>\n",
       "      <td>NaN</td>\n",
       "    </tr>\n",
       "    <tr>\n",
       "      <th>1</th>\n",
       "      <td>White</td>\n",
       "      <td>Antitrust</td>\n",
       "      <td>NaN</td>\n",
       "      <td>NaN</td>\n",
       "      <td>100.0%</td>\n",
       "      <td>NaN</td>\n",
       "      <td>NaN</td>\n",
       "      <td>100.0%</td>\n",
       "      <td>5</td>\n",
       "      <td>4</td>\n",
       "      <td>4</td>\n",
       "      <td>4</td>\n",
       "      <td>36</td>\n",
       "      <td>36</td>\n",
       "      <td>NaN</td>\n",
       "      <td>NaN</td>\n",
       "    </tr>\n",
       "    <tr>\n",
       "      <th>2</th>\n",
       "      <td>White</td>\n",
       "      <td>Assault</td>\n",
       "      <td>13.5%</td>\n",
       "      <td>19.0%</td>\n",
       "      <td>47.6%</td>\n",
       "      <td>17.5%</td>\n",
       "      <td>24.7%</td>\n",
       "      <td>32.0%</td>\n",
       "      <td>69</td>\n",
       "      <td>29</td>\n",
       "      <td>89</td>\n",
       "      <td>45</td>\n",
       "      <td>38</td>\n",
       "      <td>36</td>\n",
       "      <td>19.8%</td>\n",
       "      <td>25.8%</td>\n",
       "    </tr>\n",
       "  </tbody>\n",
       "</table>\n",
       "</div>"
      ],
      "text/plain": [
       "    Race                 Crime Type  \\\n",
       "0  White  Administration of Justice   \n",
       "1  White                  Antitrust   \n",
       "2  White                    Assault   \n",
       "\n",
       "  Distribution of Sentence Length 60 to 119 Months  \\\n",
       "0                                             2.0%   \n",
       "1                                              NaN   \n",
       "2                                            13.5%   \n",
       "\n",
       "  Distribution of Sentence Length 24 to 59 Months  \\\n",
       "0                                           11.7%   \n",
       "1                                             NaN   \n",
       "2                                           19.0%   \n",
       "\n",
       "  Distribution of Sentence Length Up to 24 Months  \\\n",
       "0                                           86.3%   \n",
       "1                                          100.0%   \n",
       "2                                           47.6%   \n",
       "\n",
       "  Distribution of Imprisonment Length 60 to 119 Months  \\\n",
       "0                                               3.1%     \n",
       "1                                                NaN     \n",
       "2                                              17.5%     \n",
       "\n",
       "  Distribution of Imprisonment Length 24 to 59 Months  \\\n",
       "0                                              16.3%    \n",
       "1                                                NaN    \n",
       "2                                              24.7%    \n",
       "\n",
       "  Distribution of Imprisonment Length Up to 24 Months  \\\n",
       "0                                              80.6%    \n",
       "1                                             100.0%    \n",
       "2                                              32.0%    \n",
       "\n",
       "  Sentence Length (Average Months) Sentence Length (Median Months)  \\\n",
       "0                               10                               6   \n",
       "1                                5                               4   \n",
       "2                               69                              29   \n",
       "\n",
       "  Imprisonment Length (Average Months) Imprisonment Length (Median Months)  \\\n",
       "0                                   14                                  10   \n",
       "1                                    4                                   4   \n",
       "2                                   89                                  45   \n",
       "\n",
       "  Supervised Release (Average Months) Supervised Release (Median Months)  \\\n",
       "0                                  23                                 24   \n",
       "1                                  36                                 36   \n",
       "2                                  38                                 36   \n",
       "\n",
       "  Distribution of Sentence Length 120 Months or More  \\\n",
       "0                                                NaN   \n",
       "1                                                NaN   \n",
       "2                                              19.8%   \n",
       "\n",
       "  Distribution of Imprisonment Length 120 Months or More  \n",
       "0                                                NaN      \n",
       "1                                                NaN      \n",
       "2                                              25.8%      "
      ]
     },
     "execution_count": 75,
     "metadata": {},
     "output_type": "execute_result"
    }
   ],
   "source": [
    "sentence_length_all"
   ]
  },
  {
   "cell_type": "code",
   "execution_count": null,
   "metadata": {},
   "outputs": [],
   "source": []
  },
  {
   "cell_type": "code",
   "execution_count": null,
   "metadata": {},
   "outputs": [],
   "source": []
  },
  {
   "cell_type": "markdown",
   "metadata": {},
   "source": [
    "# Beautiful Soup - Sentencing outcomes"
   ]
  },
  {
   "cell_type": "markdown",
   "metadata": {},
   "source": [
    "## Plea Status"
   ]
  },
  {
   "cell_type": "code",
   "execution_count": null,
   "metadata": {},
   "outputs": [],
   "source": [
    "def all_plea_status(race):\n",
    "    plea_status_all = pd.DataFrame()\n",
    "    for i in race:\n",
    "        tick_checkbox(i, \"true\", \"Race\")\n",
    "        time.sleep(5)\n",
    "        expand_list()\n",
    "        plea_status_all = plea_status_all.append(plea_status(i), ignore_index=True)\n",
    "        time.sleep(5)\n",
    "        tick_checkbox(i, \"None\", \"Race\")\n",
    "        time.sleep(5)\n",
    "    return(plea_status_all)"
   ]
  },
  {
   "cell_type": "code",
   "execution_count": null,
   "metadata": {},
   "outputs": [],
   "source": [
    "race = ['White','Black','Hispanic', 'Other']\n",
    "plea_status_all = all_plea_status(race)\n",
    "plea_status_all"
   ]
  },
  {
   "cell_type": "code",
   "execution_count": null,
   "metadata": {},
   "outputs": [],
   "source": [
    "plea_status_all.to_csv('Plea Status All.csv')"
   ]
  },
  {
   "cell_type": "markdown",
   "metadata": {},
   "source": [
    "## Sentence Type"
   ]
  },
  {
   "cell_type": "code",
   "execution_count": null,
   "metadata": {},
   "outputs": [],
   "source": [
    "def all_sentencing_type(race):\n",
    "    plea_status_all = pd.DataFrame()\n",
    "    for i in race:\n",
    "        tick_checkbox(i, \"true\", \"Race\")\n",
    "        time.sleep(5)\n",
    "        expand_list()\n",
    "        time.sleep(5)\n",
    "        sentencing_type_all = sentencing_type_all.append(sentence_type(i), ignore_index=True)\n",
    "        time.sleep(5)\n",
    "        tick_checkbox(i, \"None\", \"Race\")\n",
    "        time.sleep(5)\n",
    "    return(sentencing_type_all)\n"
   ]
  },
  {
   "cell_type": "code",
   "execution_count": null,
   "metadata": {},
   "outputs": [],
   "source": [
    "race = ['White','Black','Hispanic', 'Other']\n",
    "sentencing_type_all = all_sentencing_type(race)\n",
    "sentencing_type_all"
   ]
  },
  {
   "cell_type": "code",
   "execution_count": null,
   "metadata": {},
   "outputs": [],
   "source": []
  },
  {
   "cell_type": "code",
   "execution_count": null,
   "metadata": {},
   "outputs": [],
   "source": [
    "sentence_type_all = sentence_type_all.append(sentence_type(\"Other\"), ignore_index=True)"
   ]
  },
  {
   "cell_type": "code",
   "execution_count": null,
   "metadata": {},
   "outputs": [],
   "source": [
    "sentence_type_all"
   ]
  },
  {
   "cell_type": "code",
   "execution_count": null,
   "metadata": {},
   "outputs": [],
   "source": []
  },
  {
   "cell_type": "code",
   "execution_count": null,
   "metadata": {},
   "outputs": [],
   "source": []
  },
  {
   "cell_type": "code",
   "execution_count": null,
   "metadata": {},
   "outputs": [],
   "source": []
  },
  {
   "cell_type": "code",
   "execution_count": null,
   "metadata": {},
   "outputs": [],
   "source": []
  }
 ],
 "metadata": {
  "kernelspec": {
   "display_name": "Python 3",
   "language": "python",
   "name": "python3"
  },
  "language_info": {
   "codemirror_mode": {
    "name": "ipython",
    "version": 3
   },
   "file_extension": ".py",
   "mimetype": "text/x-python",
   "name": "python",
   "nbconvert_exporter": "python",
   "pygments_lexer": "ipython3",
   "version": "3.7.6"
  }
 },
 "nbformat": 4,
 "nbformat_minor": 4
}
