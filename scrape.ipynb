{
 "cells": [
  {
   "cell_type": "code",
   "execution_count": 1,
   "metadata": {},
   "outputs": [],
   "source": [
    "# Import packages for ...\n",
    "## pulling data from XML and HTML files\n",
    "from bs4 import BeautifulSoup \n",
    "\n",
    "## automating web browser interaction\n",
    "from selenium import webdriver # module containing implementations of browser drivers\n",
    "from webdriver_manager.chrome import ChromeDriverManager # Chrome driver \n",
    "from selenium.webdriver.support import expected_conditions as EC # method for writing code that waits until conditions are met \n",
    "from selenium.webdriver.support.ui import WebDriverWait # method for writing code that implements implicit or explicit waits\n",
    "from selenium.webdriver.common.by import By # method for locating elements by their attributes\n",
    "from selenium.webdriver import ActionChains # module for implementing browser interactions \n",
    "\n",
    "## data manipulation\n",
    "import pandas as pd\n",
    "from datetime import datetime\n",
    "import numpy as np\n",
    "import time\n",
    "import os\n",
    "\n",
    "## plotting\n",
    "import matplotlib.pyplot as plt"
   ]
  },
  {
   "cell_type": "code",
   "execution_count": 2,
   "metadata": {},
   "outputs": [
    {
     "name": "stderr",
     "output_type": "stream",
     "text": [
      "[WDM] - Current google-chrome version is 84.0.4147\n",
      "[WDM] - Get LATEST driver version for 84.0.4147\n"
     ]
    },
    {
     "name": "stdout",
     "output_type": "stream",
     "text": [
      " \n"
     ]
    },
    {
     "name": "stderr",
     "output_type": "stream",
     "text": [
      "[WDM] - Driver [/Users/kate/.wdm/drivers/chromedriver/mac64/84.0.4147.30/chromedriver] found in cache\n"
     ]
    }
   ],
   "source": [
    "# Open up a chrome page\n",
    "driver = webdriver.Chrome(ChromeDriverManager().install())\n",
    "url = \"https://ida.ussc.gov/analytics/saw.dll?Dashboard\"\n",
    "driver.get(url)"
   ]
  },
  {
   "cell_type": "markdown",
   "metadata": {},
   "source": [
    "## Import .py function"
   ]
  },
  {
   "cell_type": "code",
   "execution_count": 283,
   "metadata": {},
   "outputs": [],
   "source": [
    "from sentencing_outcomes import *"
   ]
  },
  {
   "cell_type": "code",
   "execution_count": 282,
   "metadata": {},
   "outputs": [
    {
     "data": {
      "text/plain": [
       "<module 'sentencing_outcomes' from '/Users/kate/Documents/Data Science/dashboard-web-scraping/sentencing_outcomes.py'>"
      ]
     },
     "execution_count": 282,
     "metadata": {},
     "output_type": "execute_result"
    }
   ],
   "source": [
    "# Reload the script\n",
    "import sys, importlib\n",
    "importlib.reload(sys.modules['sentencing_outcomes'])"
   ]
  },
  {
   "cell_type": "markdown",
   "metadata": {},
   "source": [
    "## Sentence Length"
   ]
  },
  {
   "cell_type": "code",
   "execution_count": 7,
   "metadata": {},
   "outputs": [],
   "source": [
    "# Navigate to Sentencing Outcomes, Sentence Length page\n",
    "nav_to_sentencingoutcomes(driver, \"Sentence Length\")"
   ]
  },
  {
   "cell_type": "code",
   "execution_count": 94,
   "metadata": {},
   "outputs": [],
   "source": [
    "sentence_length_all = pd.DataFrame() # Instantiate a df\n",
    "sentence_length_all['Race'] = \"\"\n",
    "sentence_length_all['Crime Type'] = \"\""
   ]
  },
  {
   "cell_type": "code",
   "execution_count": 250,
   "metadata": {},
   "outputs": [
    {
     "name": "stdout",
     "output_type": "stream",
     "text": [
      "Element is a checkbox\n",
      "Checkbox updated: Other\n"
     ]
    }
   ],
   "source": [
    "r = race[0] # spin through all - manually for now\n",
    "#ct = crime_type[3] # spin through all\n",
    "one_checkbox(driver, r, \"true\", \"Race\", val=0) # toggle "
   ]
  },
  {
   "cell_type": "code",
   "execution_count": 263,
   "metadata": {
    "collapsed": true
   },
   "outputs": [
    {
     "name": "stdout",
     "output_type": "stream",
     "text": [
      "Element is a checkbox\n",
      "Checkbox updated: Tax\n",
      "['Distribution of Sentence Length 60 to 119 Months', 'Distribution of Sentence Length 24 to 59 Months', 'Distribution of Sentence Length Up to 24 Months', 'Distribution of Imprisonment Length 60 to 119 Months', 'Distribution of Imprisonment Length 24 to 59 Months', 'Distribution of Imprisonment Length Up to 24 Months', 'Sentence Length (Average Months)', 'Sentence Length (Median Months)', 'Imprisonment Length (Average Months)', 'Imprisonment Length (Median Months)', 'Supervised Release (Average Months)', 'Supervised Release (Median Months)']\n",
      "\n",
      "\n",
      "['2.2%', '15.2%', '82.6%', '3.4%', '20.7%', '75.9%', '15', '12', '21', '16', '25', '36']\n",
      "DF has been generated for race Other, crime type Tax\n",
      "Element is a checkbox\n",
      "Checkbox updated: Tax\n",
      "Element is a checkbox\n",
      "Checkbox updated: Other\n",
      "['Distribution of Sentence Length 60 to 119 Months', 'Distribution of Sentence Length 24 to 59 Months', 'Distribution of Sentence Length Up to 24 Months', 'Distribution of Imprisonment Length 60 to 119 Months', 'Distribution of Imprisonment Length 24 to 59 Months', 'Distribution of Imprisonment Length Up to 24 Months', 'Sentence Length (Average Months)', 'Sentence Length (Median Months)', 'Imprisonment Length (Average Months)', 'Imprisonment Length (Median Months)', 'Supervised Release (Average Months)', 'Supervised Release (Median Months)']\n",
      "\n",
      "\n",
      "['7.7%', '1.9%', '90.4%', '13.8%', '3.4%', '82.8%', '9', '0', '17', '5', '25', '24']\n",
      "DF has been generated for race Other, crime type Other\n",
      "Element is a checkbox\n",
      "Checkbox updated: Other\n",
      "Element is a checkbox\n",
      "Checkbox updated: Other\n"
     ]
    }
   ],
   "source": [
    "for ct in crime_type: # spin through all\n",
    "    one_checkbox(driver, ct, \"true\", \"Crime Type\", val=0) # toggle\n",
    "    ## Append the data to DF\n",
    "    sentence_length_all = sentence_length_all.append(sentence_length(driver, r, ct), ignore_index=True)\n",
    "    one_checkbox(driver, ct, \"None\", \"Crime Type\", val=0) # toggle\n",
    "one_checkbox(driver, r, \"None\", \"Race\", val=0) # toggle "
   ]
  },
  {
   "cell_type": "code",
   "execution_count": null,
   "metadata": {},
   "outputs": [],
   "source": [
    "sentence_length_all"
   ]
  },
  {
   "cell_type": "code",
   "execution_count": 265,
   "metadata": {
    "scrolled": true
   },
   "outputs": [],
   "source": [
    "sentence_length_all.to_csv(\"sentence_length.csv\")"
   ]
  },
  {
   "cell_type": "markdown",
   "metadata": {},
   "source": [
    "## Plea Status"
   ]
  },
  {
   "cell_type": "code",
   "execution_count": 268,
   "metadata": {},
   "outputs": [],
   "source": [
    "# Navigate to Sentencing Outcomes, Sentence Length page\n",
    "nav_to_sentencingoutcomes(driver, \"Plea Status\")"
   ]
  },
  {
   "cell_type": "code",
   "execution_count": 284,
   "metadata": {},
   "outputs": [],
   "source": [
    "def all_plea_status(race):\n",
    "    plea_status_all = pd.DataFrame()\n",
    "    for i in race:\n",
    "        print(i)\n",
    "        one_checkbox(driver, i, \"true\", \"Race\")\n",
    "        time.sleep(5)\n",
    "        expand_list(driver)\n",
    "        plea_status_all = plea_status_all.append(plea_status(driver, i), ignore_index=True)\n",
    "        time.sleep(5)\n",
    "        one_checkbox(driver, i, \"None\", \"Race\")\n",
    "    return(plea_status_all)"
   ]
  },
  {
   "cell_type": "code",
   "execution_count": 285,
   "metadata": {},
   "outputs": [
    {
     "name": "stdout",
     "output_type": "stream",
     "text": [
      "White\n",
      "Element is a checkbox\n",
      "Checkbox updated: White\n"
     ]
    },
    {
     "ename": "TypeError",
     "evalue": "plea_status() missing 1 required positional argument: 'race'",
     "output_type": "error",
     "traceback": [
      "\u001b[0;31m---------------------------------------------------------------------------\u001b[0m",
      "\u001b[0;31mTypeError\u001b[0m                                 Traceback (most recent call last)",
      "\u001b[0;32m<ipython-input-285-77a51c2e680c>\u001b[0m in \u001b[0;36m<module>\u001b[0;34m\u001b[0m\n\u001b[0;32m----> 1\u001b[0;31m \u001b[0mplea_status_all\u001b[0m \u001b[0;34m=\u001b[0m \u001b[0mall_plea_status\u001b[0m\u001b[0;34m(\u001b[0m\u001b[0mrace\u001b[0m\u001b[0;34m)\u001b[0m\u001b[0;34m\u001b[0m\u001b[0;34m\u001b[0m\u001b[0m\n\u001b[0m\u001b[1;32m      2\u001b[0m \u001b[0mplea_status_all\u001b[0m\u001b[0;34m\u001b[0m\u001b[0;34m\u001b[0m\u001b[0m\n",
      "\u001b[0;32m<ipython-input-284-df3e5ba66620>\u001b[0m in \u001b[0;36mall_plea_status\u001b[0;34m(race)\u001b[0m\n\u001b[1;32m      6\u001b[0m         \u001b[0mtime\u001b[0m\u001b[0;34m.\u001b[0m\u001b[0msleep\u001b[0m\u001b[0;34m(\u001b[0m\u001b[0;36m5\u001b[0m\u001b[0;34m)\u001b[0m\u001b[0;34m\u001b[0m\u001b[0;34m\u001b[0m\u001b[0m\n\u001b[1;32m      7\u001b[0m         \u001b[0mexpand_list\u001b[0m\u001b[0;34m(\u001b[0m\u001b[0mdriver\u001b[0m\u001b[0;34m)\u001b[0m\u001b[0;34m\u001b[0m\u001b[0;34m\u001b[0m\u001b[0m\n\u001b[0;32m----> 8\u001b[0;31m         \u001b[0mplea_status_all\u001b[0m \u001b[0;34m=\u001b[0m \u001b[0mplea_status_all\u001b[0m\u001b[0;34m.\u001b[0m\u001b[0mappend\u001b[0m\u001b[0;34m(\u001b[0m\u001b[0mplea_status\u001b[0m\u001b[0;34m(\u001b[0m\u001b[0mi\u001b[0m\u001b[0;34m)\u001b[0m\u001b[0;34m,\u001b[0m \u001b[0mignore_index\u001b[0m\u001b[0;34m=\u001b[0m\u001b[0;32mTrue\u001b[0m\u001b[0;34m)\u001b[0m\u001b[0;34m\u001b[0m\u001b[0;34m\u001b[0m\u001b[0m\n\u001b[0m\u001b[1;32m      9\u001b[0m         \u001b[0mtime\u001b[0m\u001b[0;34m.\u001b[0m\u001b[0msleep\u001b[0m\u001b[0;34m(\u001b[0m\u001b[0;36m5\u001b[0m\u001b[0;34m)\u001b[0m\u001b[0;34m\u001b[0m\u001b[0;34m\u001b[0m\u001b[0m\n\u001b[1;32m     10\u001b[0m         \u001b[0mone_checkbox\u001b[0m\u001b[0;34m(\u001b[0m\u001b[0mdriver\u001b[0m\u001b[0;34m,\u001b[0m \u001b[0mi\u001b[0m\u001b[0;34m,\u001b[0m \u001b[0;34m\"None\"\u001b[0m\u001b[0;34m,\u001b[0m \u001b[0;34m\"Race\"\u001b[0m\u001b[0;34m)\u001b[0m\u001b[0;34m\u001b[0m\u001b[0;34m\u001b[0m\u001b[0m\n",
      "\u001b[0;31mTypeError\u001b[0m: plea_status() missing 1 required positional argument: 'race'"
     ]
    }
   ],
   "source": [
    "plea_status_all = all_plea_status(race)\n",
    "plea_status_all"
   ]
  },
  {
   "cell_type": "code",
   "execution_count": null,
   "metadata": {},
   "outputs": [],
   "source": [
    "plea_status_all.to_csv('Plea Status All.csv')"
   ]
  },
  {
   "cell_type": "markdown",
   "metadata": {},
   "source": [
    "## Sentence Type"
   ]
  },
  {
   "cell_type": "code",
   "execution_count": null,
   "metadata": {},
   "outputs": [],
   "source": [
    "# Navigate to Sentencing Outcomes, Sentence Length page\n",
    "nav_to_sentencingoutcomes(driver, \"Sentence Type\")"
   ]
  },
  {
   "cell_type": "code",
   "execution_count": null,
   "metadata": {},
   "outputs": [],
   "source": [
    "def all_sentencing_type(race):\n",
    "    plea_status_all = pd.DataFrame()\n",
    "    for i in race:\n",
    "        tick_checkbox(i, \"true\", \"Race\")\n",
    "        time.sleep(5)\n",
    "        expand_list()\n",
    "        time.sleep(5)\n",
    "        sentencing_type_all = sentencing_type_all.append(sentence_type(drivi), ignore_index=True)\n",
    "        time.sleep(5)\n",
    "        tick_checkbox(i, \"None\", \"Race\")\n",
    "        time.sleep(5)\n",
    "    return(sentencing_type_all)\n"
   ]
  },
  {
   "cell_type": "code",
   "execution_count": null,
   "metadata": {},
   "outputs": [],
   "source": [
    "race = ['White','Black','Hispanic', 'Other']\n",
    "sentencing_type_all = all_sentencing_type(race)\n",
    "sentencing_type_all"
   ]
  },
  {
   "cell_type": "code",
   "execution_count": null,
   "metadata": {},
   "outputs": [],
   "source": []
  },
  {
   "cell_type": "code",
   "execution_count": null,
   "metadata": {},
   "outputs": [],
   "source": [
    "sentence_type_all = sentence_type_all.append(sentence_type(\"Other\"), ignore_index=True)"
   ]
  },
  {
   "cell_type": "code",
   "execution_count": null,
   "metadata": {},
   "outputs": [],
   "source": [
    "sentence_type_all"
   ]
  },
  {
   "cell_type": "code",
   "execution_count": null,
   "metadata": {},
   "outputs": [],
   "source": []
  },
  {
   "cell_type": "code",
   "execution_count": null,
   "metadata": {},
   "outputs": [],
   "source": []
  },
  {
   "cell_type": "code",
   "execution_count": null,
   "metadata": {},
   "outputs": [],
   "source": []
  },
  {
   "cell_type": "code",
   "execution_count": null,
   "metadata": {},
   "outputs": [],
   "source": []
  }
 ],
 "metadata": {
  "kernelspec": {
   "display_name": "Python 3",
   "language": "python",
   "name": "python3"
  },
  "language_info": {
   "codemirror_mode": {
    "name": "ipython",
    "version": 3
   },
   "file_extension": ".py",
   "mimetype": "text/x-python",
   "name": "python",
   "nbconvert_exporter": "python",
   "pygments_lexer": "ipython3",
   "version": "3.7.6"
  }
 },
 "nbformat": 4,
 "nbformat_minor": 4
}
